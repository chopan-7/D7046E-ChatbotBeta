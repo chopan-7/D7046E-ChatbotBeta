{
 "cells": [
  {
   "cell_type": "markdown",
   "metadata": {
    "colab_type": "text",
    "id": "view-in-github"
   },
   "source": [
    "<a href=\"https://colab.research.google.com/github/chopan-7/D7046E-ChatbotBeta/blob/main/Chatbot_trainer.ipynb\" target=\"_parent\"><img src=\"https://colab.research.google.com/assets/colab-badge.svg\" alt=\"Open In Colab\"/></a>"
   ]
  },
  {
   "cell_type": "code",
   "execution_count": 1,
   "metadata": {},
   "outputs": [
    {
     "name": "stderr",
     "output_type": "stream",
     "text": [
      "[nltk_data] Downloading package punkt to /Users/pangdee/nltk_data...\n",
      "[nltk_data]   Package punkt is already up-to-date!\n",
      "[nltk_data] Downloading package stopwords to\n",
      "[nltk_data]     /Users/pangdee/nltk_data...\n",
      "[nltk_data]   Package stopwords is already up-to-date!\n"
     ]
    }
   ],
   "source": [
    "from ChatbotBeta import *"
   ]
  },
  {
   "cell_type": "markdown",
   "metadata": {
    "id": "SbyOxxU0pOuO"
   },
   "source": [
    "# Sentiment classification model\n",
    "#### Creating chatbot model and dataset\n",
    "Preprocess IMDB dataset and create a classification model."
   ]
  },
  {
   "cell_type": "code",
   "execution_count": 1,
   "metadata": {},
   "outputs": [
    {
     "name": "stderr",
     "output_type": "stream",
     "text": [
      "[nltk_data] Downloading package punkt to /Users/pangdee/nltk_data...\n",
      "[nltk_data]   Package punkt is already up-to-date!\n",
      "[nltk_data] Downloading package stopwords to\n",
      "[nltk_data]     /Users/pangdee/nltk_data...\n",
      "[nltk_data]   Package stopwords is already up-to-date!\n"
     ]
    },
    {
     "name": "stdout",
     "output_type": "stream",
     "text": [
      "Creating dataset...\n",
      "Done!\n"
     ]
    }
   ],
   "source": [
    "dataset = ChatbotDataset(\"./processed_IMDB_Dataset10000.txt\")\n",
    "dataset.create()\n",
    "model = ClassyModel(dataset.vocab_size, 150, 2)"
   ]
  },
  {
   "cell_type": "markdown",
   "metadata": {},
   "source": [
    "#### Model parameters"
   ]
  },
  {
   "cell_type": "code",
   "execution_count": 2,
   "metadata": {},
   "outputs": [],
   "source": [
    "# Default parameters, uncomment and modify to tweak the model\n",
    "#model.epochs = 1\n",
    "#model.lr = 0.001\n",
    "#model.loss_function = nn.CrossEntropyLoss()\n",
    "#model.optimizer = torch.optim.Adam(model.parameters(), model.lr)"
   ]
  },
  {
   "cell_type": "markdown",
   "metadata": {},
   "source": [
    "#### Train the model with IMDB dataset"
   ]
  },
  {
   "cell_type": "code",
   "execution_count": 3,
   "metadata": {},
   "outputs": [
    {
     "name": "stdout",
     "output_type": "stream",
     "text": [
      "Epoch 1 [160/160] - Loss: 0.2894073724746704 - Acc.: 90.0%%"
     ]
    }
   ],
   "source": [
    "model.train(dataset.train_loader, dataset.validation_loader)"
   ]
  },
  {
   "cell_type": "markdown",
   "metadata": {},
   "source": [
    "#### Run this cell to save the dataset"
   ]
  },
  {
   "cell_type": "code",
   "execution_count": 4,
   "metadata": {},
   "outputs": [],
   "source": [
    "dataset.save(\"IMDB_Dataset.pt\")"
   ]
  },
  {
   "cell_type": "markdown",
   "metadata": {},
   "source": [
    "#### Run this cell to save the model"
   ]
  },
  {
   "cell_type": "code",
   "execution_count": 5,
   "metadata": {},
   "outputs": [
    {
     "name": "stdout",
     "output_type": "stream",
     "text": [
      "Model IMDB_Model.pt is saved to ./\n"
     ]
    }
   ],
   "source": [
    "model.saveModel(\"IMDB_Model.pt\")"
   ]
  },
  {
   "cell_type": "code",
   "execution_count": 7,
   "metadata": {},
   "outputs": [
    {
     "name": "stdout",
     "output_type": "stream",
     "text": [
      "What do you think about Canadian Friends Service Committee\n",
      " url: https://en.wikipedia.org/wiki/Canadian_Friends_Service_Committee \n",
      "bad\n",
      "you think its bad\n",
      "What do you think about HD 219134 h\n",
      " url: https://en.wikipedia.org/wiki/HD_219134_h \n",
      "good\n",
      "oh you think its good\n",
      "What do you think about Fallacies of illicit transference\n",
      " url: https://en.wikipedia.org/wiki/Fallacies_of_illicit_transference \n",
      "exit\n"
     ]
    }
   ],
   "source": []
  }
 ],
 "metadata": {
  "colab": {
   "collapsed_sections": [],
   "include_colab_link": true,
   "name": "Chatbot_trainer.ipynb",
   "provenance": []
  },
  "kernelspec": {
   "display_name": "Python 3",
   "language": "python",
   "name": "python3"
  },
  "language_info": {
   "codemirror_mode": {
    "name": "ipython",
    "version": 3
   },
   "file_extension": ".py",
   "mimetype": "text/x-python",
   "name": "python",
   "nbconvert_exporter": "python",
   "pygments_lexer": "ipython3",
   "version": "3.6.12"
  }
 },
 "nbformat": 4,
 "nbformat_minor": 1
}
