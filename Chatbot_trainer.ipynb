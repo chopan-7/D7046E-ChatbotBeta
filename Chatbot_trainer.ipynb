{
 "cells": [
  {
   "cell_type": "markdown",
   "metadata": {
    "colab_type": "text",
    "id": "view-in-github"
   },
   "source": [
    "<a href=\"https://colab.research.google.com/github/chopan-7/D7046E-ChatbotBeta/blob/main/Chatbot_trainer.ipynb\" target=\"_parent\"><img src=\"https://colab.research.google.com/assets/colab-badge.svg\" alt=\"Open In Colab\"/></a>"
   ]
  },
  {
   "cell_type": "code",
   "execution_count": 1,
   "metadata": {},
   "outputs": [
    {
     "name": "stderr",
     "output_type": "stream",
     "text": [
      "[nltk_data] Downloading package punkt to /home/thomas/nltk_data...\n",
      "[nltk_data]   Package punkt is already up-to-date!\n",
      "[nltk_data] Downloading package stopwords to /home/thomas/nltk_data...\n",
      "[nltk_data]   Package stopwords is already up-to-date!\n"
     ]
    }
   ],
   "source": [
    "from ChatbotBeta import *"
   ]
  },
  {
   "cell_type": "markdown",
   "metadata": {
    "id": "SbyOxxU0pOuO"
   },
   "source": [
    "# Sentiment classification model\n",
    "#### Creating model and dataset\n",
    "Preprocess IMDB dataset and create a classification model."
   ]
  },
  {
   "cell_type": "code",
   "execution_count": null,
   "metadata": {},
   "outputs": [],
   "source": [
    "dataset = ChatbotDataset(\"./processed_IMDB_Dataset10000.txt\")\n",
    "dataset.create()\n",
    "model = ClassyModel(dataset.vocab_size, 150, 2)"
   ]
  },
  {
   "cell_type": "markdown",
   "metadata": {},
   "source": [
    "#### Model parameters"
   ]
  },
  {
   "cell_type": "code",
   "execution_count": null,
   "metadata": {},
   "outputs": [],
   "source": [
    "# Default parameters, uncomment and modify to tweak the model\n",
    "#model.epochs = 1\n",
    "#model.lr = 0.001\n",
    "#model.loss_function = nn.CrossEntropyLoss()\n",
    "#model.optimizer = torch.optim.Adam(model.parameters(), model.lr)"
   ]
  },
  {
   "cell_type": "markdown",
   "metadata": {},
   "source": [
    "#### Train the model with IMDB dataset"
   ]
  },
  {
   "cell_type": "code",
   "execution_count": null,
   "metadata": {},
   "outputs": [],
   "source": [
    "model.train(dataset.train_loader, dataset.validation_loader)"
   ]
  },
  {
   "cell_type": "markdown",
   "metadata": {},
   "source": [
    "#### Run this cell to save the dataset"
   ]
  },
  {
   "cell_type": "code",
   "execution_count": null,
   "metadata": {},
   "outputs": [],
   "source": [
    "dataset.save(\"IMDB_Dataset.pt\")"
   ]
  },
  {
   "cell_type": "markdown",
   "metadata": {},
   "source": [
    "#### Run this cell to save the model"
   ]
  },
  {
   "cell_type": "code",
   "execution_count": null,
   "metadata": {},
   "outputs": [],
   "source": [
    "model.saveModel(\"IMDB_Model.pt\")"
   ]
  },
  {
   "cell_type": "markdown",
   "metadata": {},
   "source": [
    "# Context classification model\n",
    "#### Creating dataset and model for good intents"
   ]
  },
  {
   "cell_type": "code",
   "execution_count": 2,
   "metadata": {},
   "outputs": [
    {
     "name": "stdout",
     "output_type": "stream",
     "text": [
      "21 patterns\n",
      "5 tags: ['information', 'language', 'length', 'links', 'picture']\n",
      "21 unique stemmed words: ['amount', 'content', 'detail', 'draw', 'easi', 'fact', 'imag', 'inform', 'languag', 'length', 'link', 'long', 'paint', 'phrase', 'pictur', 'portrait', 'short', 'sourc', 'straightforward', 'to', 'understand']\n"
     ]
    }
   ],
   "source": [
    "goodIntent = IntentDataset()\n",
    "goodIntent.bow_preprocess(\"./good_intent.json\")\n",
    "goodModel = NeuralNet(len(goodIntent), 8, len(goodIntent.tags))"
   ]
  },
  {
   "cell_type": "markdown",
   "metadata": {},
   "source": [
    "#### Train good intent model"
   ]
  },
  {
   "cell_type": "code",
   "execution_count": null,
   "metadata": {},
   "outputs": [],
   "source": [
    "goodModel.train(goodIntent.trainLoader())"
   ]
  },
  {
   "cell_type": "markdown",
   "metadata": {},
   "source": [
    "#### Run this cell to save the good intent dataset"
   ]
  },
  {
   "cell_type": "code",
   "execution_count": null,
   "metadata": {},
   "outputs": [],
   "source": [
    "goodIntent.save(\"goodIntent_Dataset.pt\")"
   ]
  },
  {
   "cell_type": "markdown",
   "metadata": {},
   "source": [
    "#### Run this cell to save the good intent model"
   ]
  },
  {
   "cell_type": "code",
   "execution_count": null,
   "metadata": {},
   "outputs": [],
   "source": [
    "goodModel.saveModel(\"goodIntent_Model.pt\")"
   ]
  },
  {
   "cell_type": "markdown",
   "metadata": {},
   "source": [
    "#### Creating dataset and model for bad intents"
   ]
  },
  {
   "cell_type": "code",
   "execution_count": 4,
   "metadata": {},
   "outputs": [
    {
     "name": "stdout",
     "output_type": "stream",
     "text": [
      "21 patterns\n",
      "5 tags: ['information', 'language', 'length', 'links', 'picture']\n",
      "21 unique stemmed words: ['amount', 'content', 'detail', 'draw', 'fact', 'hard', 'imag', 'inform', 'languag', 'length', 'link', 'long', 'paint', 'phrase', 'pic', 'pictur', 'portrait', 'short', 'sourc', 'to', 'understand']\n"
     ]
    }
   ],
   "source": [
    "badIntent = IntentDataset()\n",
    "badIntent.bow_preprocess(\"./bad_intent.json\")\n",
    "badModel = NeuralNet(len(badIntent), 8, len(badIntent.tags))"
   ]
  },
  {
   "cell_type": "markdown",
   "metadata": {},
   "source": [
    "#### Train bad intent model"
   ]
  },
  {
   "cell_type": "code",
   "execution_count": 5,
   "metadata": {},
   "outputs": [
    {
     "name": "stdout",
     "output_type": "stream",
     "text": [
      "Final loss: 1.5975\n"
     ]
    }
   ],
   "source": [
    "badModel.train(badIntent.trainLoader())"
   ]
  },
  {
   "cell_type": "markdown",
   "metadata": {},
   "source": [
    "#### Run this cell to save the bad intent dataset"
   ]
  },
  {
   "cell_type": "code",
   "execution_count": 6,
   "metadata": {},
   "outputs": [
    {
     "name": "stdout",
     "output_type": "stream",
     "text": [
      "Saving dataset badIntent_Dataset.pt to ./\n"
     ]
    }
   ],
   "source": [
    "badIntent.save(\"badIntent_Dataset.pt\")"
   ]
  },
  {
   "cell_type": "markdown",
   "metadata": {},
   "source": [
    "#### Run this cell to save the bad intent model"
   ]
  },
  {
   "cell_type": "code",
   "execution_count": 7,
   "metadata": {},
   "outputs": [
    {
     "name": "stdout",
     "output_type": "stream",
     "text": [
      "Model goodIntent_Model.pt is saved to ./\n"
     ]
    }
   ],
   "source": [
    "goodModel.saveModel(\"goodIntent_Model.pt\")"
   ]
  },
  {
   "cell_type": "code",
   "execution_count": null,
   "metadata": {},
   "outputs": [],
   "source": []
  }
 ],
 "metadata": {
  "colab": {
   "collapsed_sections": [],
   "include_colab_link": true,
   "name": "Chatbot_trainer.ipynb",
   "provenance": []
  },
  "kernelspec": {
   "display_name": "Python 3",
   "language": "python",
   "name": "python3"
  },
  "language_info": {
   "codemirror_mode": {
    "name": "ipython",
    "version": 3
   },
   "file_extension": ".py",
   "mimetype": "text/x-python",
   "name": "python",
   "nbconvert_exporter": "python",
   "pygments_lexer": "ipython3",
   "version": "3.6.12"
  }
 },
 "nbformat": 4,
 "nbformat_minor": 1
}
